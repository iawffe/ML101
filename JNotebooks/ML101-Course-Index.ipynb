{
 "cells": [
  {
   "cell_type": "markdown",
   "metadata": {},
   "source": [
    "# Machine Learning 101\n",
    "\n",
    "The proposal of this material is to give an introduction to machine learning with emphasis on deep learning using Python.\n",
    "\n",
    "## Python and NumPy Basics\n",
    "\n",
    "- [Introduction to Python](tutorial-python.ipynb)\n",
    "- [Introduction to NumPy](tutorial-numpy.ipynb)\n",
    "\n",
    "\n",
    "## Datasets\n",
    "- [Synthetic 2D Datasets](synthetic-datasets.ipynb)\n",
    "\n",
    "## Introduction to Machine Learning\n",
    "\n",
    "- [Polynomial fitting, overfitting and regularization](overfitting_regularization.ipynb) (Type this command before launching jupyter  to enable interaction: \"jupyter nbextension enable --py widgetsnbextension\")\n",
    "- [Logistic Regression - NumPy Implementation](logistic_regression_numpy.ipynb)\n",
    "- [Logistic Regression - Keras](logistic_regression_keras.ipynb)\n",
    "- [Logistic Regression - Keras - Decision boundaries during training](logistic_regression_keras_decision_boundary.ipynb)\n",
    "- [Multi-Layer Neural Networks and their decisions boundaries](multi_layer_neural_network.ipynb)\n",
    "\n",
    "## Introduction to Deep Learning\n",
    "\n",
    "- [MNIST Example I: Image Classification using Multi-layer Neural Network](MNIST-Keras.ipynb)\n",
    "- [MNIST Example II: Image Classification using Convolutional Neural Networks](MNIST-keras-CNN.ipynb)\n",
    "- [Data Augmentation](data-augmentation-keras.ipynb)\n",
    "- Image Segmentation CNN:\n",
    "\n",
    "   - *Skull-stripping* (3 part demo) \n",
    "       - [Training Patches Extraction (part 1)](patches-extraction-rgb-CC-347.ipynb)\n",
    "       - [Training the CNN (part 2)](cnn-cc-347-train.ipynb)\n",
    "       - [Deploying the CNN - CC12 (part 3a)](cnn-cc-347-predict-CC12.ipynb)\n",
    "       - [Deploying the CNN - LPBA40 (part 3b)](cnn-cc-347-predict-LPBA40.ipynb)\n",
    "       - [Deploying the CNN - OASIS (part 3c)](cnn-cc-347-predict-OASIS.ipynb)\n",
    "       \n",
    "   - *White-matter Segmentation* (3 part demo) \n",
    "       - [Training Patches Extraction (part 1)](patches-extraction-rgb-CC-347-wm.ipynb)\n",
    "       - [Training the CNN (part 2)](cnn-cc-347-train-wm.ipynb)\n",
    "       - [Deploying the CNN - CC12 (part 3)](cnn-cc-347-predict-CC12-wm.ipynb) \n",
    "       \n",
    "   - *MRI Classification combining handcrafted and convolutional features * (3 part demo) \n",
    "       - [Feature Extraction (part 1)](feats-CC-hand-conv.ipynb)\n",
    "       - [Classification based on Magnetic Field Strengh (part 2a)](svm-magneticfield.ipynb)\n",
    "       - [Probabilistic Classification and Unbalanced datasets (part 2b)](svm-probabilistic.ipynb)  \n",
    "       \n",
    "### Extras\n",
    "- [Sklearn demonstration](sklearn-examples.ipynb) "
   ]
  },
  {
   "cell_type": "code",
   "execution_count": null,
   "metadata": {
    "collapsed": true
   },
   "outputs": [],
   "source": []
  }
 ],
 "metadata": {
  "kernelspec": {
   "display_name": "Python 2",
   "language": "python",
   "name": "python2"
  },
  "language_info": {
   "codemirror_mode": {
    "name": "ipython",
    "version": 2
   },
   "file_extension": ".py",
   "mimetype": "text/x-python",
   "name": "python",
   "nbconvert_exporter": "python",
   "pygments_lexer": "ipython2",
   "version": "2.7.10"
  }
 },
 "nbformat": 4,
 "nbformat_minor": 2
}
