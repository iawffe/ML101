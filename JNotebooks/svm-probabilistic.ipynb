{
 "cells": [
  {
   "cell_type": "markdown",
   "metadata": {},
   "source": [
    "# Possible variations of basic Classifiers:\n",
    "    - Probabilistic Classification\n",
    "    - Classification for Unbalanced data"
   ]
  },
  {
   "cell_type": "markdown",
   "metadata": {},
   "source": [
    "## Probabilistic Classification \n",
    "Instead of giving as a output a class label, the probabilistic classification gives as output a probability/score.\n",
    "To achieved the final classification, the corresponding label of the highest probability is chosen. The probability itself may be used as a degree of confidence about the classification result. <img src=\"../Figures/prob_class.png\" alt=\"Drawing\" style=\"width: 500px;\"/>\n",
    "\n",
    "Observation: All experiments performed with 100 samples to limite the processing time"
   ]
  },
  {
   "cell_type": "code",
   "execution_count": 2,
   "metadata": {
    "collapsed": true
   },
   "outputs": [],
   "source": [
    "%matplotlib inline\n",
    "import matplotlib.pylab as plt\n",
    "import os\n",
    "import numpy as np\n",
    "from sklearn.svm import SVC\n",
    "from sklearn import decomposition\n",
    "from sklearn.model_selection import KFold\n",
    "from sklearn.model_selection import StratifiedKFold\n",
    "from sklearn.metrics import accuracy_score, confusion_matrix\n",
    "from sklearn.model_selection import GridSearchCV\n",
    "import matplotlib.transforms as mtransforms"
   ]
  },
  {
   "cell_type": "code",
   "execution_count": 5,
   "metadata": {},
   "outputs": [
    {
     "name": "stdout",
     "output_type": "stream",
     "text": [
      "final accuracy: 1.0\n"
     ]
    }
   ],
   "source": [
    "## Classifying samples based on scanner vendor: GE, PHILIPS, SIEMENS\n",
    "data = np.load(os.path.join('../Data/'+\"feats_cc359.npy\"))\n",
    "nsamples = 100\n",
    "\n",
    "## classyfing images by magnetic field 1.5T or 3T ##\n",
    "np.random.seed(0)\n",
    "np.random.shuffle(data) # randomize samples\n",
    "\n",
    "y = (data[:nsamples,0]-10).astype(np.uint8) # create label vector by using data information (0 - GE; 1 - PHILIPS; 2- SIEMENS)\n",
    "X = data[:nsamples,4:] # extract feats from data (only removing other image/patients infos)\n",
    "\n",
    "### SVM - probability ###\n",
    "## Parameter for Grid-Search ##\n",
    "tuned_parameters = [\n",
    "    {'C': [1, 100], 'kernel': ['linear']},\n",
    "    #{'C': [1, 100], 'gamma': [0.1, 0.01], 'kernel': ['rbf']},\n",
    "    ]\n",
    "\n",
    "## Cross validation using 2-fold ##\n",
    "kf = KFold(n_splits=2)\n",
    "final_cm = np.zeros((3,3))\n",
    "acc = []\n",
    "for train, test in kf.split(X,y):\n",
    "    X_train = X[train]\n",
    "    y_train = y[train]\n",
    "    X_test = X[test]\n",
    "    y_test = y[test]\n",
    "    clf = GridSearchCV(SVC(probability=True), tuned_parameters,scoring='accuracy') # grid search maximizing the accuracy\n",
    "    clf.fit(X_train, y_train) # training\n",
    "    y_pred = clf.predict_proba(X_test) # testing\n",
    "    acc.append(accuracy_score(y_test, np.argmax(y_pred,axis=1)))\n",
    "\n",
    "print 'final accuracy:',np.array(acc).mean()"
   ]
  },
  {
   "cell_type": "code",
   "execution_count": 6,
   "metadata": {},
   "outputs": [
    {
     "data": {
      "image/png": "[encoded data removed]",
      "text/plain": [
       "<matplotlib.figure.Figure at 0x10c040950>"
      ]
     },
     "metadata": {},
     "output_type": "display_data"
    }
   ],
   "source": [
    "## Visualizing the probabilities per class ##\n",
    "\n",
    "def viz_prob(ax,v):\n",
    "    \"\"\"\n",
    "    This function plots the probabilities achieved per class.\n",
    "    \"\"\"\n",
    "    label = ['r','g','b']\n",
    "    sym = ['s','v','o']\n",
    "    ax.scatter(np.arange((y_test==v[0]).sum()), y_pred[np.argwhere(y_test==v[0]),v[0]], c=label[v[0]], marker=sym[v[0]],s=60)\n",
    "    ax.scatter(np.arange((y_test==v[0]).sum()), y_pred[np.argwhere(y_test==v[0]),v[1]], c=label[v[1]], marker=sym[v[1]])\n",
    "    ax.scatter(np.arange((y_test==v[0]).sum()), y_pred[np.argwhere(y_test==v[0]),v[2]], c=label[v[2]], marker=sym[v[2]])\n",
    "    major_ticks = np.arange(0, 20, 1)                                              \n",
    "    minor_ticks = np.arange(0, 1, 0.2)                                               \n",
    "    ax.set_xticks(major_ticks)                                                       \n",
    "    ax.set_xticks(minor_ticks, minor=True)                                           \n",
    "    ax.set_yticks(major_ticks)                                                       \n",
    "    ax.set_yticks(minor_ticks, minor=True)     \n",
    "    ax.grid(which='minor', alpha=0.2)                                                \n",
    "    ax.grid(which='major', alpha=0.5)\n",
    "    ax.set_xlim(0, 20)\n",
    "    ax.set_ylim(0, 1.)\n",
    "\n",
    "fig, ((ax1, ax2, ax3)) = plt.subplots(1,3, sharey=True, figsize=(20,15))\n",
    "\n",
    "ax1.set_title('GE', fontsize=22, fontweight='bold')\n",
    "v = [0,1,2]\n",
    "viz_prob(ax1,v)\n",
    "\n",
    "ax2.set_title('PHILIPS', fontsize=22, fontweight='bold')\n",
    "viz_prob(ax2,v=[1,0,2])\n",
    "\n",
    "ax3.set_title('SIEMENS', fontsize=22, fontweight='bold')\n",
    "viz_prob(ax3,v=[2,0,1])"
   ]
  },
  {
   "cell_type": "markdown",
   "metadata": {},
   "source": [
    "## Unbalanced samples\n",
    "Another problem very often faced on supervised classification problems is unbalanced samples per class (majority of the samples are from a specific class).\n",
    "To face this problem, it is introduced the stratified cross validation and class weighted SVM: \n",
    "\n",
    "- Stratified cross validation: This cross-validation is a variation of KFold that returns stratified folds. The folds are made by preserving the percentage of samples for each class.\n",
    "- Class weighted SVM: all classes are supposed to have weight one. The “balanced” mode uses the values of y to automatically adjust weights inversely proportional to class frequencies in the input data as n_samples / (n_classes * np.bincount(y))"
   ]
  },
  {
   "cell_type": "code",
   "execution_count": 7,
   "metadata": {},
   "outputs": [
    {
     "name": "stdout",
     "output_type": "stream",
     "text": [
      "class distribution #samples with(<45,>45): [14 86]\n",
      "accuracy: 0.88\n"
     ]
    }
   ],
   "source": [
    "## Unbalanced datasets - Classifying samples based on age using a 45 threshold ##\n",
    "nsamples = 100\n",
    "\n",
    "## classyfing images by magnetic field 1.5T or 3T ##\n",
    "np.random.seed(0)\n",
    "np.random.shuffle(data) # randomize samples\n",
    "\n",
    "y = (data[:nsamples,2]>45).astype(np.uint8) # create label vector by using data information (age>45)\n",
    "print 'class distribution #samples with(<45,>45):',np.bincount(y)\n",
    "X = data[:nsamples,4:] # extract feats from data \n",
    "\n",
    "### SVM - probability ###\n",
    "## SOLUTION: Stratified kfold and unbalanced SVM ##\n",
    "tuned_parameters = [\n",
    "    {'C': [1, 100], 'kernel': ['linear']},\n",
    "    ]\n",
    "\n",
    "## Cross validation using 2-fold ##\n",
    "kf = StratifiedKFold(n_splits=2)\n",
    "final_cm = np.zeros((2,2))\n",
    "acc = []\n",
    "for train, test in kf.split(X,y):\n",
    "    X_train = X[train]\n",
    "    y_train = y[train]\n",
    "    X_test = X[test]\n",
    "    y_test = y[test]\n",
    "    clf = GridSearchCV(SVC(probability=True,class_weight='balanced'), tuned_parameters,scoring='accuracy') # grid search maximizing the accuracy\n",
    "    clf.fit(X_train, y_train) # training\n",
    "    y_pred = clf.predict_proba(X_test) # testing\n",
    "    acc.append(accuracy_score(y_test, np.argmax(y_pred,axis=1)))\n",
    "print 'accuracy:', np.array(acc).mean()"
   ]
  },
  {
   "cell_type": "markdown",
   "metadata": {},
   "source": [
    "# Question\n",
    "1. Change the threshold in the age classification, and verify results variation"
   ]
  }
 ],
 "metadata": {
  "kernelspec": {
   "display_name": "Python 2",
   "language": "python",
   "name": "python2"
  },
  "language_info": {
   "codemirror_mode": {
    "name": "ipython",
    "version": 2
   },
   "file_extension": ".py",
   "mimetype": "text/x-python",
   "name": "python",
   "nbconvert_exporter": "python",
   "pygments_lexer": "ipython2",
   "version": "2.7.10"
  }
 },
 "nbformat": 4,
 "nbformat_minor": 2
}
