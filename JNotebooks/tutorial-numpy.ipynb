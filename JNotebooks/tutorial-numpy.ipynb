{
 "cells": [
  {
   "cell_type": "markdown",
   "metadata": {},
   "source": [
    "# Introduction to NumPy \n",
    "\n",
    "Numerical Python (*NumPy*) is a very powerful library that allows efficent multi-dimensional array processing. Most image processing and machine learning applications are built upon NumPy arrays (*ndarray*).\n",
    "\n",
    "## ndarray data type\n",
    "\n",
    "The ndarray data type, or simply array, is a N-dimensional arangement of items of the same type. Its elements are indexed by a tuple of N integers. ndarrays are defined by 3 essential innformation: data type (dtype), shape of each of the N dimensions, and its values.\n",
    "\n",
    "See an example of how to define a 1D ndarray and extract its essential information:"
   ]
  },
  {
   "cell_type": "code",
   "execution_count": 1,
   "metadata": {},
   "outputs": [
    {
     "name": "stdout",
     "output_type": "stream",
     "text": [
      "Shape of the array: a.shape= (5,)\n",
      "Data type= int64\n",
      "Printing the array: a=\n",
      "[ 2  3  4 -1 -2]\n"
     ]
    }
   ],
   "source": [
    "# Display plots within (inline) the notebook\n",
    "%matplotlib inline \n",
    "import matplotlib.pylab as plt # Graphics library\n",
    "\n",
    "import numpy as np # importing Numpy library with a nickname (np)\n",
    "a = np.array( [2,3,4,-1,-2] ) # defining a 1-dimensional array\n",
    "print 'Shape of the array: a.shape=', a.shape\n",
    "print 'Data type=', a.dtype\n",
    "print 'Printing the array: a='\n",
    "print a"
   ]
  },
  {
   "cell_type": "markdown",
   "metadata": {},
   "source": [
    "The same example, but nowdefining a 2D array:"
   ]
  },
  {
   "cell_type": "code",
   "execution_count": 2,
   "metadata": {},
   "outputs": [
    {
     "name": "stdout",
     "output_type": "stream",
     "text": [
      "Shape of the array, b.shape= (2, 3)\n",
      "Data type, b.dtype float64\n",
      "Number of columns: 3\n",
      "Number of lines: 2\n",
      "Elements, b=\n",
      "[[ 1.5  2.3  5.2]\n",
      " [ 4.2  5.6  4.4]]\n"
     ]
    }
   ],
   "source": [
    "b = np.array( [ [1.5, 2.3, 5.2],\n",
    "                [4.2, 5.6, 4.4] ] )\n",
    "print'Shape of the array, b.shape=', b.shape\n",
    "print'Data type, b.dtype', b.dtype\n",
    "print'Number of columns:', b.shape[-1] # b.shape[1] is equivalent\n",
    "print'Number of lines:', b.shape[-2] # b.shape[0] is equivalent\n",
    "print'Elements, b='\n",
    "print b"
   ]
  },
  {
   "cell_type": "markdown",
   "metadata": {},
   "source": [
    "## ndarray manipulation\n",
    "\n",
    "### Creating arrays with initialized values\n",
    "\n",
    "It is possible to create arrays of 0s, 1s, and empty using the following functions: *zeros*, *ones* or *empty*. The array dimensions are a mandatory input, they are given by an input tuple. The data type is optional, the default value is float.\n",
    "\n",
    "The code below illustrates how to create initialized arrays:"
   ]
  },
  {
   "cell_type": "code",
   "execution_count": 3,
   "metadata": {},
   "outputs": [
    {
     "name": "stdout",
     "output_type": "stream",
     "text": [
      "0s Array:\n",
      "[[ 0.  0.  0.  0.]\n",
      " [ 0.  0.  0.  0.]]\n",
      "float64\n",
      "\n",
      "\n",
      "1s Array:\n",
      "[[[1 1 1 1 1]\n",
      "  [1 1 1 1 1]]\n",
      "\n",
      " [[1 1 1 1 1]\n",
      "  [1 1 1 1 1]]\n",
      "\n",
      " [[1 1 1 1 1]\n",
      "  [1 1 1 1 1]]]\n",
      "int16\n",
      "\n",
      "\n",
      "Non-initialized array:\n",
      "[[ 1.5  2.3  5.2]\n",
      " [ 4.2  5.6  4.4]]\n",
      "float64\n"
     ]
    }
   ],
   "source": [
    "d = np.zeros( (2,4) )\n",
    "print '0s Array:'\n",
    "print d\n",
    "print d.dtype\n",
    "print \"\\n\"\n",
    "\n",
    "d = np.ones( (3,2,5), dtype='int16' )    \n",
    "print '1s Array:'\n",
    "print d\n",
    "print d.dtype\n",
    "print \"\\n\"\n",
    "\n",
    "d = np.empty( (2,3), 'float')  # The values are random residuals in memory\n",
    "print 'Non-initialized array:'\n",
    "print d\n",
    "print d.dtype"
   ]
  },
  {
   "cell_type": "markdown",
   "metadata": {},
   "source": [
    "## Creating arrays with sequential values (linspace and arange)\n",
    "\n",
    "The NumPy function **linspace** nad **arange** have the same goal: create **ndarrays** linearly spaced between a range of values. The major differences between are how the range of values is interpreted and how the increments (steps) are computed. **Arange** does not include the last value of the interval, while **linspace** includes. **Arange** receives the step parameter as input, while **linspace** receives the number of elements of the output array and computes the step from that.\n",
    "\n",
    "See some examples below:"
   ]
  },
  {
   "cell_type": "code",
   "execution_count": 4,
   "metadata": {},
   "outputs": [
    {
     "name": "stdout",
     "output_type": "stream",
     "text": [
      "np.arange( 10) =  [0 1 2 3 4 5 6 7 8 9]\n",
      "np.arange( 3, 8) =  [3 4 5 6 7]\n",
      "np.arange( 0, 2, 0.5) =  [ 0.   0.5  1.   1.5]\n",
      "np.linspace( 0, 2, 5 ) =  [ 0.   0.5  1.   1.5  2. ]\n"
     ]
    }
   ],
   "source": [
    "print 'np.arange( 10) = ', np.arange(10) # final valued not included in the sequence\n",
    "print 'np.arange( 3, 8) = ', np.arange(3,8)\n",
    "print 'np.arange( 0, 2, 0.5) = ', np.arange(0, 2, 0.5) \n",
    "print 'np.linspace( 0, 2, 5 ) = ', np.linspace( 0, 2, 5 ) # final value included"
   ]
  },
  {
   "cell_type": "markdown",
   "metadata": {},
   "source": [
    "## 1D slicing\n",
    "\n",
    "\n",
    "A powerful NumPy resource is the slicing operation, which allows you to a ccess a subset of values from the array. The slicing operation defines which indexes of the array will be accessed by defining the initial index, the final index and the step using the following syntax: my_array_[begin:end:step]. All slicing parameters are oprional. The syntax is similar to slicing Python lists.\n",
    "\n",
    "In the simple example below, we access the odd inexes starting in 1 and ending in 13:"
   ]
  },
  {
   "cell_type": "code",
   "execution_count": 5,
   "metadata": {},
   "outputs": [
    {
     "name": "stdout",
     "output_type": "stream",
     "text": [
      "1D slicing a[1:15:2]\n",
      "[ 1  3  5  7  9 11 13]\n"
     ]
    }
   ],
   "source": [
    "a = np.arange(20) # the indexes match the values of the array\n",
    "print '1D slicing a[1:15:2]'\n",
    "print a[1:15:2] "
   ]
  },
  {
   "cell_type": "markdown",
   "metadata": {},
   "source": [
    "## Slicing using negative indexes\n",
    "\n",
    "The code below accesses the odd elements, except for the last:"
   ]
  },
  {
   "cell_type": "code",
   "execution_count": 6,
   "metadata": {},
   "outputs": [
    {
     "name": "stdout",
     "output_type": "stream",
     "text": [
      "a[1:-1:2]\n",
      "[ 1  3  5  7  9 11 13 15 17]\n",
      "Observe that the last odd element (19) is not included\n"
     ]
    }
   ],
   "source": [
    "a = np.arange(20)\n",
    "print 'a[1:-1:2]'\n",
    "print a[1:-1:2]\n",
    "print 'Observe that the last odd element (19) is not included' "
   ]
  },
  {
   "cell_type": "markdown",
   "metadata": {},
   "source": [
    "### Inverting the array order"
   ]
  },
  {
   "cell_type": "code",
   "execution_count": 7,
   "metadata": {},
   "outputs": [
    {
     "name": "stdout",
     "output_type": "stream",
     "text": [
      "a=\n",
      "[ 0  1  2  3  4  5  6  7  8  9 10 11 12 13 14 15 16 17 18 19]\n",
      "\n",
      "\n",
      "a inverted\n",
      "[19 18 17 16 15 14 13 12 11 10  9  8  7  6  5  4  3  2  1  0]\n"
     ]
    }
   ],
   "source": [
    "a = np.arange(20)\n",
    "print \"a=\"\n",
    "print a\n",
    "print \"\\n\"\n",
    "print \"a inverted\"\n",
    "print a[::-1]\n"
   ]
  },
  {
   "cell_type": "markdown",
   "metadata": {},
   "source": [
    "### 1D slicing cheat sheet\n",
    "\n",
    "\n",
    "\n",
    "|Full syntax      | Short syntax |\n",
    "|-----------------|--------------|\n",
    "|a[0:len(a):1]    | a[:]         |\n",
    "|a[0:10:1]        | a[:10]       |\n",
    "|a[0:10:2]        | a[:10:2]     |\n",
    "|a[2:len(a):1]    | a[2::]       |\n",
    "|a[2:len(a):2]    | a[2::2]      |"
   ]
  },
  {
   "cell_type": "markdown",
   "metadata": {},
   "source": [
    "## 2D array slicing\n",
    "\n",
    "### Initializing an array and changing its shape"
   ]
  },
  {
   "cell_type": "code",
   "execution_count": 8,
   "metadata": {},
   "outputs": [
    {
     "name": "stdout",
     "output_type": "stream",
     "text": [
      "a =\n",
      "[ 0  1  2  3  4  5  6  7  8  9 10 11 12 13 14 15 16 17 18 19]\n",
      "\n",
      "a.reshape(4,5) =\n",
      "[[ 0  1  2  3  4]\n",
      " [ 5  6  7  8  9]\n",
      " [10 11 12 13 14]\n",
      " [15 16 17 18 19]]\n"
     ]
    }
   ],
   "source": [
    "a = np.arange(20) # 1D array with 20 elements\n",
    "print 'a =' \n",
    "print a\n",
    "print \n",
    "\n",
    "a = a.reshape(4,5) # Reshape. Now a is a 4x5 2D array\n",
    "print 'a.reshape(4,5) ='\n",
    "print a "
   ]
  },
  {
   "cell_type": "markdown",
   "metadata": {},
   "source": [
    "### Accessing lines and columns of an array\n",
    "\n",
    "The \"**:**\" operator indicates that all elements in that array dimension\n",
    "will be accessed."
   ]
  },
  {
   "cell_type": "code",
   "execution_count": 9,
   "metadata": {},
   "outputs": [
    {
     "name": "stdout",
     "output_type": "stream",
     "text": [
      "2nd line of a:\n",
      "[5 6 7 8 9]\n",
      "First column of a:\n",
      "[ 0  5 10 15]\n"
     ]
    }
   ],
   "source": [
    "print '2nd line of a:'\n",
    "print(a[1,:])  # Don't forget: second line is index 1\n",
    "\n",
    "print 'First column of a:'\n",
    "print(a[:,0]) "
   ]
  },
  {
   "cell_type": "markdown",
   "metadata": {},
   "source": [
    "### Slicing specific rows and columns of an array"
   ]
  },
  {
   "cell_type": "code",
   "execution_count": 10,
   "metadata": {},
   "outputs": [
    {
     "name": "stdout",
     "output_type": "stream",
     "text": [
      "Getting every other line a[0::2,:]=\n",
      "[[ 0  1  2  3  4]\n",
      " [10 11 12 13 14]]\n",
      "Getting every other line and column starting at line 0 and column 1,a[0::2,1::2]\n",
      "[[ 1  3]\n",
      " [11 13]]\n"
     ]
    }
   ],
   "source": [
    "print 'Getting every other line a[0::2,:]='\n",
    "print a[0::2,:] \n",
    "\n",
    "print 'Getting every other line and column starting at line 0 and column 1,a[0::2,1::2]'\n",
    "print a[0::2,1::2]"
   ]
  },
  {
   "cell_type": "markdown",
   "metadata": {},
   "source": [
    "### 2D slicing with inverted indexing"
   ]
  },
  {
   "cell_type": "code",
   "execution_count": 11,
   "metadata": {},
   "outputs": [
    {
     "name": "stdout",
     "output_type": "stream",
     "text": [
      "Getting the last 2 lines in reverse order, b = a[-1:-3:-1,:] =\n",
      "[[15 16 17 18 19]\n",
      " [10 11 12 13 14]]\n",
      "Getting the element in the last line and column, a[-1,-1] =\n",
      "19\n",
      "Inverting array lines: c = a[::-1,:] =\n",
      "[[15 16 17 18 19]\n",
      " [10 11 12 13 14]\n",
      " [ 5  6  7  8  9]\n",
      " [ 0  1  2  3  4]]\n"
     ]
    }
   ],
   "source": [
    "b = a[-1:-3:-1,:]\n",
    "print 'Getting the last 2 lines in reverse order, b = a[-1:-3:-1,:] ='\n",
    "print a[-1:-3:-1,:]\n",
    "\n",
    "print 'Getting the element in the last line and column, a[-1,-1] ='\n",
    "print a[-1,-1]\n",
    "\n",
    "c = a[::-1,:] \n",
    "print 'Inverting array lines: c = a[::-1,:] ='\n",
    "print a[::-1,:]"
   ]
  },
  {
   "cell_type": "markdown",
   "metadata": {},
   "source": [
    "## Copying ndarray variables\n",
    "\n",
    "\n",
    "The ndarray data structure was designed for enabling optimized access to large amounts of umerical data. There are 2 main types of ndarray copy operations: the shallow copy and the deep copy. Shallow copies create a new variable that points to the same data as the original variable, i.e. the same data are shared by the 2 variables. The deep copy creates a new variable with its own data. The data is initialized to the same values as the values of the data it was copied from.\n",
    "\n",
    "\n",
    "|Type                 |  Example           |\n",
    "|---------------------|--------------------|\n",
    "|Shallow copy         | a = b              |\n",
    "|Deep copy            | a = b.copy()       |\n",
    "\n",
    "### Shallow copy example"
   ]
  },
  {
   "cell_type": "code",
   "execution_count": 12,
   "metadata": {},
   "outputs": [
    {
     "name": "stdout",
     "output_type": "stream",
     "text": [
      "a =\n",
      "[0 1 2 3 4 5]\n",
      "b =\n",
      "[0 1 2 3 4 5]\n",
      "Shape of a = (2, 3)\n",
      "a =\n",
      "[[-1  1  2]\n",
      " [ 3  4  5]]\n",
      "id =  4427454784\n",
      "id =  4427454784\n",
      "np.may_share_memory(a,b): True\n"
     ]
    }
   ],
   "source": [
    "a = np.arange(6) \n",
    "b = a\n",
    "print \"a =\"\n",
    "print a\n",
    "print \"b =\" \n",
    "print b\n",
    "\n",
    "b.shape = (2,3)                           # if you change the shape of b\n",
    "print \"Shape of a =\",a.shape             # you are also altering the shape of a\n",
    "\n",
    "b[0,0] = -1                               # changing in one element of b\n",
    "print \"a =\\n\",a                            # also changes the value in a  \n",
    "\n",
    "print \"id = \",id(a)                # id is  number that identifies an object\n",
    "print \"id = \",id(b)                # a and b have the same id\n",
    "\n",
    "print 'np.may_share_memory(a,b):',np.may_share_memory(a,b)"
   ]
  },
  {
   "cell_type": "markdown",
   "metadata": {},
   "source": [
    "Notice that even defining a function to do the copy, may result in a shallow copy:"
   ]
  },
  {
   "cell_type": "code",
   "execution_count": 13,
   "metadata": {},
   "outputs": [
    {
     "name": "stdout",
     "output_type": "stream",
     "text": [
      "id de a =  4427454784\n",
      "id de b =  4427454784\n",
      "np.may_share_memory(a,b): True\n"
     ]
    }
   ],
   "source": [
    "def cc(a):\n",
    "  return a\n",
    "b = cc(a)\n",
    "print \"id de a = \",id(a)\n",
    "print \"id de b = \",id(b)\n",
    "print 'np.may_share_memory(a,b):',np.may_share_memory(a,b)"
   ]
  },
  {
   "cell_type": "markdown",
   "metadata": {},
   "source": [
    "Shallow copies are very useful. It can be used when you what to see your data in a different dimensionality and/or shape, but you don't want to make a copy of the data. This optimizes the access to the elements of ndarray. Shallow copies currently occur through the following operations:\n",
    "\n",
    " - 1) reshape -> you view the array with a different shape and/or dimensionality\n",
    " - 2) Getting a subset of the original array through the slicing procedure, e.g a = b[::2]\n",
    " - 3) When you transpose the array\n",
    " - 4) When you linearize the array using the *ravel* function entre outros.\n",
    "\n",
    "### Reshape\n",
    "\n",
    "The following example show how to reshape a 1D array into 2D and 3D arrays."
   ]
  },
  {
   "cell_type": "code",
   "execution_count": 14,
   "metadata": {},
   "outputs": [
    {
     "name": "stdout",
     "output_type": "stream",
     "text": [
      "a =\n",
      "[ 0  1  2  3  4  5  6  7  8  9 10 11 12 13 14 15 16 17 18 19 20 21 22 23 24\n",
      " 25 26 27 28 29]\n",
      "b =\n",
      "[[ 0  1  2  3  4  5]\n",
      " [ 6  7  8  9 10 11]\n",
      " [12 13 14 15 16 17]\n",
      " [18 19 20 21 22 23]\n",
      " [24 25 26 27 28 29]]\n",
      "a =\n",
      "[-1  1  2  3  4  5 -1  7  8  9 10 11 -1 13 14 15 16 17 -1 19 20 21 22 23 -1\n",
      " 25 26 27 28 29]\n",
      "c =\n",
      "[[[-1  1  2  3  4]\n",
      "  [ 5 -1  7  8  9]\n",
      "  [10 11 -1 13 14]]\n",
      "\n",
      " [[15 16 17 -1 19]\n",
      "  [20 21 22 23 -1]\n",
      "  [25 26 27 28 29]]]\n",
      "c.base is a:\n",
      "True\n",
      "np.may_share_memory(a,c):\n",
      "True\n"
     ]
    }
   ],
   "source": [
    "a = np.arange(30)\n",
    "print \"a =\"\n",
    "print a\n",
    "b = a.reshape( (5, 6))\n",
    "print \"b =\"\n",
    "print b\n",
    "b[:, 0] = -1\n",
    "print \"a =\"\n",
    "print a\n",
    "c = a.reshape((2, 3, 5)) \n",
    "print \"c =\"\n",
    "print c\n",
    "print 'c.base is a:'\n",
    "print c.base is a\n",
    "print 'np.may_share_memory(a,c):'\n",
    "print np.may_share_memory(a,c)"
   ]
  },
  {
   "cell_type": "markdown",
   "metadata": {},
   "source": [
    "### Shallow copies generated by slicing a larger array\n",
    "\n",
    "The follow example shows how shallow copies generated using the slicing operation work."
   ]
  },
  {
   "cell_type": "code",
   "execution_count": 15,
   "metadata": {},
   "outputs": [
    {
     "name": "stdout",
     "output_type": "stream",
     "text": [
      "<type 'numpy.ndarray'> (5, 6) float64 0.0 0.0\n",
      "<type 'numpy.ndarray'> (3, 3) float64 0.0 0.0\n",
      "b=\n",
      "[[ 1.  1.  1.]\n",
      " [ 1.  1.  1.]\n",
      " [ 1.  1.  1.]]\n",
      "a=\n",
      "[[ 1.  0.  1.  0.  1.  0.]\n",
      " [ 0.  0.  0.  0.  0.  0.]\n",
      " [ 1.  0.  1.  0.  1.  0.]\n",
      " [ 0.  0.  0.  0.  0.  0.]\n",
      " [ 1.  0.  1.  0.  1.  0.]]\n",
      "b.base is a:\n",
      "True\n",
      "np.may_share_memory(a,b):\n",
      "True\n"
     ]
    }
   ],
   "source": [
    "a = np.zeros( (5, 6))\n",
    "print '%s %s %s %s %s' % (type(a), np.shape(a), a.dtype, a.min(), a.max())\n",
    "b = a[::2,::2]\n",
    "print '%s %s %s %s %s' % (type(b), np.shape(b), b.dtype, b.min(), b.max())\n",
    "b[:,:] = 1. #assigns 1s to every other elemnt in a\n",
    "print 'b='\n",
    "print b\n",
    "print 'a='\n",
    "print a\n",
    "print 'b.base is a:'\n",
    "print b.base is a\n",
    "print 'np.may_share_memory(a,b):'\n",
    "print np.may_share_memory(a,b)"
   ]
  },
  {
   "cell_type": "markdown",
   "metadata": {},
   "source": [
    "The following example shows how to process a single column of an array:"
   ]
  },
  {
   "cell_type": "code",
   "execution_count": 16,
   "metadata": {},
   "outputs": [
    {
     "name": "stdout",
     "output_type": "stream",
     "text": [
      "a=\n",
      "[[ 0  1  2  3  4]\n",
      " [ 5  6  7  8  9]\n",
      " [10 11 12 13 14]\n",
      " [15 16 17 18 19]\n",
      " [20 21 22 23 24]]\n",
      "b=\n",
      "[ 0  5 10 15 20]\n",
      "b=\n",
      "[0 1 2 3 4]\n",
      "a=\n",
      "[[ 0  1  2  3  4]\n",
      " [ 1  6  7  8  9]\n",
      " [ 2 11 12 13 14]\n",
      " [ 3 16 17 18 19]\n",
      " [ 4 21 22 23 24]]\n"
     ]
    }
   ],
   "source": [
    "a = np.arange(25).reshape((5,5))\n",
    "print 'a='\n",
    "print a\n",
    "b = a[:,0]\n",
    "print 'b='\n",
    "print b\n",
    "b[:] = np.arange(5) # This assignment  changes the values of the first column of a\n",
    "print 'b='\n",
    "print b\n",
    "print 'a='\n",
    "print a "
   ]
  },
  {
   "cell_type": "markdown",
   "metadata": {},
   "source": [
    "## Transpose\n",
    "\n",
    "\n",
    "The transposition operation changes the order the axis of the array are viewed. It also generates a shallow copy of the original array."
   ]
  },
  {
   "cell_type": "code",
   "execution_count": 17,
   "metadata": {},
   "outputs": [
    {
     "name": "stdout",
     "output_type": "stream",
     "text": [
      "a:\n",
      "[[ 0  1  2  3  4  5]\n",
      " [ 6  7  8  9 10 11]\n",
      " [12 13 14 15 16 17]\n",
      " [18 19 20 21 22 23]]\n",
      "at:\n",
      "[[ 0  6 12 18]\n",
      " [ 1  7 13 19]\n",
      " [ 2  8 14 20]\n",
      " [ 3  9 15 21]\n",
      " [ 4 10 16 22]\n",
      " [ 5 11 17 23]]\n",
      "np.may_share_memory(a,at):\n",
      "True\n"
     ]
    }
   ],
   "source": [
    "a = np.arange(24).reshape((4,6))\n",
    "print 'a:'\n",
    "print a\n",
    "at = a.T\n",
    "print 'at:'\n",
    "print at\n",
    "print 'np.may_share_memory(a,at):'\n",
    "print np.may_share_memory(a,at)"
   ]
  },
  {
   "cell_type": "markdown",
   "metadata": {},
   "source": [
    "## Ravel\n",
    "\n",
    "The ravel function creates a 1D linearized version of the array. It also generates a shallow copy of the original array."
   ]
  },
  {
   "cell_type": "code",
   "execution_count": 18,
   "metadata": {},
   "outputs": [
    {
     "name": "stdout",
     "output_type": "stream",
     "text": [
      "a:\n",
      "[[ 0  1  2  3  4  5]\n",
      " [ 6  7  8  9 10 11]\n",
      " [12 13 14 15 16 17]\n",
      " [18 19 20 21 22 23]]\n",
      "av.shape:\n",
      "(24,)\n",
      "av:\n",
      "\n",
      "[ 0  1  2  3  4  5  6  7  8  9 10 11 12 13 14 15 16 17 18 19 20 21 22 23]\n",
      "np.may_share_memory(a,av):\n",
      "True\n"
     ]
    }
   ],
   "source": [
    "a = np.arange(24).reshape((4,6))\n",
    "print 'a:'\n",
    "print a\n",
    "av = a.ravel()\n",
    "print 'av.shape:'\n",
    "print av.shape\n",
    "print 'av:\\n'\n",
    "print av\n",
    "print 'np.may_share_memory(a,av):'\n",
    "print np.may_share_memory(a,av)"
   ]
  },
  {
   "cell_type": "markdown",
   "metadata": {},
   "source": [
    "## Deep Copy"
   ]
  },
  {
   "cell_type": "code",
   "execution_count": 19,
   "metadata": {},
   "outputs": [
    {
     "name": "stdout",
     "output_type": "stream",
     "text": [
      "id de a = \n",
      "4427454464\n",
      "id de b = \n",
      "4427456064\n",
      "id de c = \n",
      "4427455104\n"
     ]
    }
   ],
   "source": [
    "b = a.copy() # New memory space is allocated and data is copied\n",
    "c = np.array(a, copy=True) # New memory space is allocated and data is copied\n",
    "\n",
    "print \"id de a = \"\n",
    "print id(a)\n",
    "print \"id de b = \"\n",
    "print id(b)\n",
    "print\"id de c = \"\n",
    "print id(c)"
   ]
  },
  {
   "cell_type": "markdown",
   "metadata": {},
   "source": [
    "## Matrix Operations\n",
    "\n",
    "\n",
    "One of the main advantages of working with **ndarrays** is it capacity to efficently process multidimensional arrays. To multiply all elements of an array by a scalar, for instance, you just have to type  *a$*$5*. To perform any boolean operation between arrays, you just need to type  *a $<operation>$ b*. See the examples:\n"
   ]
  },
  {
   "cell_type": "code",
   "execution_count": 20,
   "metadata": {},
   "outputs": [
    {
     "name": "stdout",
     "output_type": "stream",
     "text": [
      "a=\n",
      "[[ 0  1  2  3]\n",
      " [ 4  5  6  7]\n",
      " [ 8  9 10 11]\n",
      " [12 13 14 15]\n",
      " [16 17 18 19]]\n",
      "b=\n",
      "[[ 2.  2.  2.  2.]\n",
      " [ 2.  2.  2.  2.]\n",
      " [ 2.  2.  2.  2.]\n",
      " [ 2.  2.  2.  2.]\n",
      " [ 2.  2.  2.  2.]]\n",
      "c=\n",
      "[[12 11 10]\n",
      " [ 9  8  7]\n",
      " [ 6  5  4]\n",
      " [ 3  2  1]]\n"
     ]
    }
   ],
   "source": [
    "a = np.arange(20).reshape(5,4)\n",
    "b = 2 * np.ones((5,4))    \n",
    "c = np.arange(12,0,-1).reshape(4,3)\n",
    "print 'a=\\n', a\n",
    "print 'b=\\n', b\n",
    "print 'c=\\n', c"
   ]
  },
  {
   "cell_type": "markdown",
   "metadata": {},
   "source": [
    "## Multiplication of an array by a scalar"
   ]
  },
  {
   "cell_type": "code",
   "execution_count": 21,
   "metadata": {},
   "outputs": [
    {
     "name": "stdout",
     "output_type": "stream",
     "text": [
      "b5=\n",
      "[[ 10.  10.  10.  10.]\n",
      " [ 10.  10.  10.  10.]\n",
      " [ 10.  10.  10.  10.]\n",
      " [ 10.  10.  10.  10.]\n",
      " [ 10.  10.  10.  10.]]\n"
     ]
    }
   ],
   "source": [
    "b5 = 5 * b\n",
    "\n",
    "print'b5=\\n', b5"
   ]
  },
  {
   "cell_type": "markdown",
   "metadata": {},
   "source": [
    "## Adding two arrays"
   ]
  },
  {
   "cell_type": "code",
   "execution_count": 22,
   "metadata": {},
   "outputs": [
    {
     "name": "stdout",
     "output_type": "stream",
     "text": [
      "amb=\n",
      "[[  2.   3.   4.   5.]\n",
      " [  6.   7.   8.   9.]\n",
      " [ 10.  11.  12.  13.]\n",
      " [ 14.  15.  16.  17.]\n",
      " [ 18.  19.  20.  21.]]\n"
     ]
    }
   ],
   "source": [
    "amb = a + b\n",
    "\n",
    "print'amb=\\n', amb"
   ]
  },
  {
   "cell_type": "markdown",
   "metadata": {},
   "source": [
    "## Array transpose:\n",
    "\n",
    "The transpose of an array exchanges the order of its axis (dimensions). The transpose operation creates a shallow copy of the array. See the following example:"
   ]
  },
  {
   "cell_type": "code",
   "execution_count": 23,
   "metadata": {},
   "outputs": [
    {
     "name": "stdout",
     "output_type": "stream",
     "text": [
      "a.shape= (1, 2, 9)\n",
      "[[[ 0  1  2  3  4  5  6  7  8]\n",
      "  [ 9 10 11 12 13 14 15 16 17]]]\n",
      "a transpose shape= (9, 1, 2)\n",
      "[[[ 0  9]]\n",
      "\n",
      " [[ 1 10]]\n",
      "\n",
      " [[ 2 11]]\n",
      "\n",
      " [[ 3 12]]\n",
      "\n",
      " [[ 4 13]]\n",
      "\n",
      " [[ 5 14]]\n",
      "\n",
      " [[ 6 15]]\n",
      "\n",
      " [[ 7 16]]\n",
      "\n",
      " [[ 8 17]]]\n"
     ]
    }
   ],
   "source": [
    "a = np.arange(18).reshape(1,2,9)\n",
    "print 'a.shape=',a.shape\n",
    "print a\n",
    "at = a.transpose(2,0,1)\n",
    "print 'a transpose shape=',at.shape    \n",
    "print at"
   ]
  },
  {
   "cell_type": "markdown",
   "metadata": {},
   "source": [
    "##  Matrix multiplication\n",
    "\n",
    "Matrix multiplications are done using the **dot** function. In order  for the multiplication to be feasible, the number of columns of the first array must be equal to the number of lines of the second array. See the example below:"
   ]
  },
  {
   "cell_type": "code",
   "execution_count": 24,
   "metadata": {},
   "outputs": [
    {
     "name": "stdout",
     "output_type": "stream",
     "text": [
      "a.shape: (2, 3)\n",
      "c.shape: (3, 2)\n",
      "a=\n",
      "[[0 1 2]\n",
      " [3 4 5]]\n",
      "c=\n",
      "[[ 1.  1.]\n",
      " [ 1.  1.]\n",
      " [ 1.  1.]]\n",
      "ac=\n",
      "[[  3.   3.]\n",
      " [ 12.  12.]]\n",
      "ac.shape: (2, 2)\n"
     ]
    }
   ],
   "source": [
    "a = np.arange(6).reshape(2,3)\n",
    "c = np.ones((3,2))\n",
    "ac = np.dot(a,c)\n",
    "\n",
    "print 'a.shape:',a.shape\n",
    "print 'c.shape:',c.shape\n",
    "print 'a=\\n',a\n",
    "print 'c=\\n',c\n",
    "print 'ac=\\n', ac\n",
    "print 'ac.shape:',ac.shape"
   ]
  },
  {
   "cell_type": "markdown",
   "metadata": {},
   "source": [
    "## indices and meshgrid functions\n",
    "\n",
    "The functions **indices** and **meshgrid** are useful for creatning synthetic images and they are useful for understanding the **NumPy** array programming style, which avoids the use of explicit loops in the code.\n",
    "\n",
    "### Indices: small numerical examples\n",
    "\n",
    "The **indices** function receives as input parameter a tuple with the dimensions of a n-dimensional array, e.g. (d1,d2,..,dn). The output of the function is a tuple (the sample length as the input tuple), where each element of the tuple is an array of indexes with the same shape defined by the input tuple. See the 2D example below:"
   ]
  },
  {
   "cell_type": "code",
   "execution_count": 25,
   "metadata": {},
   "outputs": [
    {
     "name": "stdout",
     "output_type": "stream",
     "text": [
      "r=\n",
      "[[0 0 0 0 0 0 0 0 0 0]\n",
      " [1 1 1 1 1 1 1 1 1 1]\n",
      " [2 2 2 2 2 2 2 2 2 2]\n",
      " [3 3 3 3 3 3 3 3 3 3]\n",
      " [4 4 4 4 4 4 4 4 4 4]]\n",
      "c=\n",
      "[[0 1 2 3 4 5 6 7 8 9]\n",
      " [0 1 2 3 4 5 6 7 8 9]\n",
      " [0 1 2 3 4 5 6 7 8 9]\n",
      " [0 1 2 3 4 5 6 7 8 9]\n",
      " [0 1 2 3 4 5 6 7 8 9]]\n"
     ]
    }
   ],
   "source": [
    "r,c = np.indices( (5, 10) )\n",
    "print 'r=\\n', r\n",
    "print 'c=\\n', c"
   ]
  },
  {
   "cell_type": "markdown",
   "metadata": {},
   "source": [
    "Note that *r* is an array where each of its elements represent their line coordinate, while *c* is an array where each of its elements  represent their column coordinate. Therefore, any operation performed in *r* and *c* represents an operation in the indexes that you use to acces an array 5x10. You can use this knowledge to create synthetic images from mathematical functions that involve the elements coordinates. Let's implement a mathematical function that returns the sum of the coordinates of each element in an array, $f(r,c) = r + c$:"
   ]
  },
  {
   "cell_type": "code",
   "execution_count": 26,
   "metadata": {},
   "outputs": [
    {
     "name": "stdout",
     "output_type": "stream",
     "text": [
      "f=\n",
      "[[ 0  1  2  3  4  5  6  7  8  9]\n",
      " [ 1  2  3  4  5  6  7  8  9 10]\n",
      " [ 2  3  4  5  6  7  8  9 10 11]\n",
      " [ 3  4  5  6  7  8  9 10 11 12]\n",
      " [ 4  5  6  7  8  9 10 11 12 13]]\n"
     ]
    }
   ],
   "source": [
    "f = r + c\n",
    "print 'f=\\n', f"
   ]
  },
  {
   "cell_type": "markdown",
   "metadata": {},
   "source": [
    "Or the difference between the row and column coordinates, $f(r,c) = r - c$:"
   ]
  },
  {
   "cell_type": "code",
   "execution_count": 27,
   "metadata": {},
   "outputs": [
    {
     "name": "stdout",
     "output_type": "stream",
     "text": [
      "f=\n",
      "[[ 0 -1 -2 -3 -4 -5 -6 -7 -8 -9]\n",
      " [ 1  0 -1 -2 -3 -4 -5 -6 -7 -8]\n",
      " [ 2  1  0 -1 -2 -3 -4 -5 -6 -7]\n",
      " [ 3  2  1  0 -1 -2 -3 -4 -5 -6]\n",
      " [ 4  3  2  1  0 -1 -2 -3 -4 -5]]\n"
     ]
    }
   ],
   "source": [
    "f = r - c\n",
    "print 'f=\\n', f"
   ]
  },
  {
   "cell_type": "markdown",
   "metadata": {},
   "source": [
    "Another possible function is the remainder of the division given by  $f(r,c) = (r + c) \\% 2$, where  % is the division remainder operation. The output is an array the looks like a cheesborad:"
   ]
  },
  {
   "cell_type": "code",
   "execution_count": 28,
   "metadata": {},
   "outputs": [
    {
     "name": "stdout",
     "output_type": "stream",
     "text": [
      "f=\n",
      "[[0 1 0 1 0 1 0 1 0 1]\n",
      " [1 0 1 0 1 0 1 0 1 0]\n",
      " [0 1 0 1 0 1 0 1 0 1]\n",
      " [1 0 1 0 1 0 1 0 1 0]\n",
      " [0 1 0 1 0 1 0 1 0 1]]\n"
     ]
    }
   ],
   "source": [
    "f = (r + c) % 2\n",
    "print 'f=\\n', f"
   ]
  },
  {
   "cell_type": "markdown",
   "metadata": {},
   "source": [
    "The line function, $f(r,c) = (r = \\frac{1}{2}c)$:"
   ]
  },
  {
   "cell_type": "code",
   "execution_count": 29,
   "metadata": {},
   "outputs": [
    {
     "name": "stdout",
     "output_type": "stream",
     "text": [
      "f=\n",
      "[[ True  True False False False False False False False False]\n",
      " [False False  True  True False False False False False False]\n",
      " [False False False False  True  True False False False False]\n",
      " [False False False False False False  True  True False False]\n",
      " [False False False False False False False False  True  True]]\n"
     ]
    }
   ],
   "source": [
    "f = (r == c//2)\n",
    "print'f=\\n', f"
   ]
  },
  {
   "cell_type": "markdown",
   "metadata": {},
   "source": [
    "Circle with radius 4, $f(r,c) = (r^2 + c^2 < 4^2)$:"
   ]
  },
  {
   "cell_type": "code",
   "execution_count": 30,
   "metadata": {},
   "outputs": [
    {
     "name": "stdout",
     "output_type": "stream",
     "text": [
      "f=\n",
      "[[1 1 1 1 0 0 0 0 0 0]\n",
      " [1 1 1 1 0 0 0 0 0 0]\n",
      " [1 1 1 1 0 0 0 0 0 0]\n",
      " [1 1 1 0 0 0 0 0 0 0]\n",
      " [0 0 0 0 0 0 0 0 0 0]]\n"
     ]
    }
   ],
   "source": [
    "f = ((r**2 + c**2) < 4**2)\n",
    "print 'f=\\n', f * 1"
   ]
  },
  {
   "cell_type": "markdown",
   "metadata": {},
   "source": [
    "## indices function for generating synthetic images\n",
    "\n",
    "We illustrate here the same examples as above, but displaying the outputs as images."
   ]
  },
  {
   "cell_type": "code",
   "execution_count": 31,
   "metadata": {},
   "outputs": [
    {
     "data": {
      "image/png": "[encoded data removed]",
      "text/plain": [
       "<matplotlib.figure.Figure at 0x107e376d0>"
      ]
     },
     "metadata": {},
     "output_type": "display_data"
    }
   ],
   "source": [
    "r,c = np.indices( (200, 300) )\n",
    "plt.subplot(121)\n",
    "plt.imshow(r,cmap = 'gray')\n",
    "plt.title(\"Lines\")\n",
    "plt.axis('off')\n",
    "plt.subplot(122)\n",
    "plt.imshow(c,cmap = 'gray')\n",
    "plt.axis('off')\n",
    "plt.title(\"Columns\")\n",
    "plt.show()"
   ]
  },
  {
   "cell_type": "markdown",
   "metadata": {},
   "source": [
    "### Sum of coordinates\n",
    "\n",
    "$f(r,c) = r + c$:"
   ]
  },
  {
   "cell_type": "code",
   "execution_count": 32,
   "metadata": {},
   "outputs": [
    {
     "data": {
      "image/png": "[encoded data removed]",
      "text/plain": [
       "<matplotlib.figure.Figure at 0x107e5ba90>"
      ]
     },
     "metadata": {},
     "output_type": "display_data"
    }
   ],
   "source": [
    "f = r + c\n",
    "plt.imshow(f,cmap = 'gray')\n",
    "plt.title(\"r+c\")\n",
    "plt.axis(\"off\")\n",
    "plt.show()"
   ]
  },
  {
   "cell_type": "markdown",
   "metadata": {},
   "source": [
    "### Subtraction of Coordinates\n",
    "\n",
    "$f(r,c) = r - c$:"
   ]
  },
  {
   "cell_type": "code",
   "execution_count": 33,
   "metadata": {},
   "outputs": [
    {
     "data": {
      "image/png": "[encoded data removed]",
      "text/plain": [
       "<matplotlib.figure.Figure at 0x106122550>"
      ]
     },
     "metadata": {},
     "output_type": "display_data"
    }
   ],
   "source": [
    "f = r - c\n",
    "plt.imshow(f,cmap = 'gray')\n",
    "plt.title(\"r-c\")\n",
    "plt.axis(\"off\")\n",
    "plt.show()"
   ]
  },
  {
   "cell_type": "markdown",
   "metadata": {},
   "source": [
    "### Chessboard Function\n",
    "\n",
    "Squares with dimensions equal 8: \n",
    "\n",
    "$f(r,c) = \\frac{(r + c)}{8} \\% 2$"
   ]
  },
  {
   "cell_type": "code",
   "execution_count": 34,
   "metadata": {},
   "outputs": [
    {
     "data": {
      "image/png": "[encoded data removed]",
      "text/plain": [
       "<matplotlib.figure.Figure at 0x108a08a50>"
      ]
     },
     "metadata": {},
     "output_type": "display_data"
    }
   ],
   "source": [
    "f = (r//8 + c//8) % 2\n",
    "plt.imshow(f,cmap = 'gray')\n",
    "plt.title(\"(r+c)%2\")\n",
    "plt.axis(\"off\")\n",
    "plt.show()"
   ]
  },
  {
   "cell_type": "markdown",
   "metadata": {},
   "source": [
    "### Line Function\n",
    "\n",
    "$f(r,c) = (r = \\frac{1}{2} c)$:"
   ]
  },
  {
   "cell_type": "code",
   "execution_count": 35,
   "metadata": {},
   "outputs": [
    {
     "data": {
      "image/png": "[encoded data removed]",
      "text/plain": [
       "<matplotlib.figure.Figure at 0x10851bf10>"
      ]
     },
     "metadata": {},
     "output_type": "display_data"
    }
   ],
   "source": [
    "f = (r == c//2)\n",
    "plt.imshow(f,cmap = 'gray')\n",
    "plt.title('r == c//2')\n",
    "plt.axis(\"off\")\n",
    "plt.show()"
   ]
  },
  {
   "cell_type": "markdown",
   "metadata": {},
   "source": [
    "### Circle Function\n",
    "\n",
    "Circle with radius 190:\n",
    "\n",
    "$f(r,c) = (r^2 + c^2 < 190^2)$:"
   ]
  },
  {
   "cell_type": "code",
   "execution_count": 36,
   "metadata": {},
   "outputs": [
    {
     "data": {
      "image/png": "[encoded data removed]",
      "text/plain": [
       "<matplotlib.figure.Figure at 0x1085357d0>"
      ]
     },
     "metadata": {},
     "output_type": "display_data"
    }
   ],
   "source": [
    "f = (((r-100)**2 + (c-100)**2) < 19**2)\n",
    "plt.imshow(f,cmap = 'gray')\n",
    "plt.title('((r-100)**2 + (c-100)**2) < 19**2')\n",
    "plt.axis(\"off\")\n",
    "plt.show()"
   ]
  },
  {
   "cell_type": "markdown",
   "metadata": {},
   "source": [
    "## meshgrid\n",
    "\n",
    "The **meshgrid** function is similar to the *indices* function. The main difference is that **meshgrid** is capable of generating negative indexes, while **indices** can only generate positive indexes. See below a simple **meshgrid** examples:"
   ]
  },
  {
   "cell_type": "code",
   "execution_count": 37,
   "metadata": {},
   "outputs": [
    {
     "name": "stdout",
     "output_type": "stream",
     "text": [
      "r=\n",
      "[[-1.5 -1.5 -1.5 -1.5 -1.5 -1.5]\n",
      " [-1.  -1.  -1.  -1.  -1.  -1. ]\n",
      " [-0.5 -0.5 -0.5 -0.5 -0.5 -0.5]\n",
      " [ 0.   0.   0.   0.   0.   0. ]\n",
      " [ 0.5  0.5  0.5  0.5  0.5  0.5]]\n",
      "c=\n",
      "[[-20 -10   0  10  20  30]\n",
      " [-20 -10   0  10  20  30]\n",
      " [-20 -10   0  10  20  30]\n",
      " [-20 -10   0  10  20  30]\n",
      " [-20 -10   0  10  20  30]]\n"
     ]
    }
   ],
   "source": [
    "r, c = np.meshgrid( np.array([-1.5, -1.0, -0.5, 0.0, 0.5]), np.array([-20, -10, 0, 10, 20, 30]), indexing='ij')\n",
    "print 'r=\\n',r\n",
    "print 'c=\\n',c"
   ]
  },
  {
   "cell_type": "markdown",
   "metadata": {},
   "source": [
    "## resize\n",
    "\n",
    "The **resize** function changes the shape of an array. In case the new array is larger than the original it is filled with copies of the initial array."
   ]
  },
  {
   "cell_type": "code",
   "execution_count": 38,
   "metadata": {},
   "outputs": [
    {
     "name": "stdout",
     "output_type": "stream",
     "text": [
      "a = \n",
      "[[0 1]\n",
      " [2 3]]\n",
      "\n",
      "np.resize(a,(1,7)) = \n",
      "[[0 1 2 3 0 1 2]]\n",
      "\n",
      "\n",
      "np.resize(a,(2,5)) = \n",
      "[[0 1 2 3 0]\n",
      " [1 2 3 0 1]]\n"
     ]
    }
   ],
   "source": [
    "a = np.array([[0,1],[2,3]])\n",
    "\n",
    "print 'a = \\n', a   \n",
    "print\n",
    "\n",
    "print 'np.resize(a,(1,7)) = \\n', np.resize(a,(1,7))\n",
    "print\n",
    "\n",
    "print\n",
    "print 'np.resize(a,(2,5)) = \\n', np.resize(a,(2,5))"
   ]
  },
  {
   "cell_type": "markdown",
   "metadata": {},
   "source": [
    "## clip\n",
    "\n",
    "The **clip** function clips the array elements at specified lower and upper thresholds."
   ]
  },
  {
   "cell_type": "code",
   "execution_count": 39,
   "metadata": {},
   "outputs": [
    {
     "name": "stdout",
     "output_type": "stream",
     "text": [
      "a =  [11  1  2  3  4  5 12 -3 -4  7  4]\n",
      "np.clip(a,0,10) =  [10  1  2  3  4  5 10  0  0  7  4]\n"
     ]
    }
   ],
   "source": [
    "a = np.array([11,1,2,3,4,5,12,-3,-4,7,4])\n",
    "print 'a = ',a\n",
    "print 'np.clip(a,0,10) = ', np.clip(a,0,10)"
   ]
  },
  {
   "cell_type": "markdown",
   "metadata": {},
   "source": [
    "## Formatting floating point arrays for printing\n",
    "\n",
    "Floating point arrays may have many decimal points:"
   ]
  },
  {
   "cell_type": "code",
   "execution_count": 40,
   "metadata": {},
   "outputs": [
    {
     "name": "stdout",
     "output_type": "stream",
     "text": [
      "A: \n",
      "[[  3.68390306e-04   5.06993321e-04   6.97744275e-04   9.60263289e-04\n",
      "    1.32155235e-03   1.81877265e-03   2.50306691e-03   3.44481975e-03]\n",
      " [  4.74089730e-03   6.52461051e-03   8.97942724e-03   1.23578432e-02\n",
      "    1.70073529e-02   2.34061923e-02   3.22125283e-02   4.43321564e-02]\n",
      " [  6.10116684e-02   8.39666729e-02   1.15558259e-01   1.59035850e-01\n",
      "    2.18871431e-01   3.01219527e-01   4.14550236e-01   5.70520443e-01]\n",
      " [  7.85172815e-01   1.08058591e+00   1.48714510e+00   2.04666794e+00\n",
      "    2.81670543e+00   3.87646151e+00   5.33493976e+00   7.34215526e+00]]\n"
     ]
    }
   ],
   "source": [
    "A = np.exp(np.linspace(0.1,10,32)).reshape(4,8)/3000.\n",
    "print 'A: \\n', A"
   ]
  },
  {
   "cell_type": "markdown",
   "metadata": {},
   "source": [
    "Therefore, you may supress some decimal houses using the **set_printoption** function:"
   ]
  },
  {
   "cell_type": "code",
   "execution_count": 41,
   "metadata": {},
   "outputs": [
    {
     "name": "stdout",
     "output_type": "stream",
     "text": [
      "A: \n",
      "[[ 0.     0.001  0.001  0.001  0.001  0.002  0.003  0.003]\n",
      " [ 0.005  0.007  0.009  0.012  0.017  0.023  0.032  0.044]\n",
      " [ 0.061  0.084  0.116  0.159  0.219  0.301  0.415  0.571]\n",
      " [ 0.785  1.081  1.487  2.047  2.817  3.876  5.335  7.342]]\n"
     ]
    }
   ],
   "source": [
    "np.set_printoptions(suppress=True, precision=3)\n",
    "\n",
    "print 'A: \\n', A"
   ]
  }
 ],
 "metadata": {
  "kernelspec": {
   "display_name": "Python 2",
   "language": "python",
   "name": "python2"
  },
  "language_info": {
   "codemirror_mode": {
    "name": "ipython",
    "version": 2
   },
   "file_extension": ".py",
   "mimetype": "text/x-python",
   "name": "python",
   "nbconvert_exporter": "python",
   "pygments_lexer": "ipython2",
   "version": "2.7.10"
  }
 },
 "nbformat": 4,
 "nbformat_minor": 1
}
