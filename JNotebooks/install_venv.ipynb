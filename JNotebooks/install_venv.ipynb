{
 "cells": [
  {
   "attachments": {},
   "cell_type": "markdown",
   "metadata": {},
   "source": [
    "# Installing a Virtual Environment\n",
    "\n",
    "This tutorial will teach you how to set up the environment for executing the machine learning code in this repository. We will not get into details on how to set a GPU, but for some demos, such as training convolutional networks, it is recommended. We will be using the Python programming language (version 2.7) combined with the [NumPy](http://www.numpy.org/) (Numerical Python) library, the [Scikit-Learn](http://scikit-learn.org/stable/) library for traditional machine learning, and the [Keras](https://keras.io/) API for deep learning. We will use [TensorFlow](https://www.tensorflow.org/) as Keras backend. The tutorials will be developed in the jupyter-notebook framework. The first libraries you have to install are **pip** and **virtualenv**. For installing these 2 libraries, you will probably need admin power on your computer. For everything else a regular account will suffice.\n",
    "\n",
    "## Installing pip\n",
    "Open a terminal and type:\n",
    "-\tLinux users:  **sudo apt-get install python-pip python-dev build-essential**  \n",
    "-\tMac users: **sudo easy_install pip**\n",
    "\n",
    "## Installing virtualnev\n",
    "Type on the terminal:\n",
    "- Linux and Mac users: **sudo pip install virtualenv**\n",
    "\n",
    "## Setting Up a Python Virtual Environment\n",
    "The step by step for both Mac an Linux users is the following:\n",
    "1.\tOpen a terminal\n",
    "2.\tGo to the folder you want to install your virtual environment (e.g. **cd ~/Documents**)\n",
    "3.\tType on the terminal: **virtualenv venv01**. Congratulations, you just created your first virtual environment named venv01.\n",
    "4.\tActivate the virtual environment. Type the following command on the terminal: **source <path to the environment>/venv01/bin/activate**. Your terminal is now on the virtual environment you just created. The libraries that you install will be placed inside this virtual environment.\n",
    "5.\tInstalling packages. To install a package, you just need to type on the terminal: \n",
    "**pip install <name of the package>** (e.g. pip install numpy). We prepared a list of library dependencies for the workshop. They are on the file requirements.txt in the Data folder of this repository. In order to install all of them at once, type on the terminal: **pip install –r <path to file>/requirements.txt**. You should have now all the libraries to execute the demos.\n",
    "6.\tTo exit the virtual environment, type on the terminal: deactivate.\n",
    "\n",
    "Online Material\n",
    "-\thttp://docs.python-guide.org/en/latest/dev/virtualenvs/\n",
    "-\thttps://ahmadawais.com/install-pip-macos-os-x-python/\n"
   ]
  },
  {
   "cell_type": "markdown",
   "metadata": {},
   "source": [
    "## Jupyter Notebook\n",
    "\n",
    "To start a jupyter notebook session, type on the terminal:\n",
    "- **jupyter nbextension enable --py widgetsnbextension** (enable interactive demos)\n",
    "- **jupyter-notebook** (launch jupyter notebook session. it will open on your browser)"
   ]
  }
 ],
 "metadata": {
  "kernelspec": {
   "display_name": "Python 2",
   "language": "python",
   "name": "python2"
  },
  "language_info": {
   "codemirror_mode": {
    "name": "ipython",
    "version": 2
   },
   "file_extension": ".py",
   "mimetype": "text/x-python",
   "name": "python",
   "nbconvert_exporter": "python",
   "pygments_lexer": "ipython2",
   "version": "2.7.10"
  }
 },
 "nbformat": 4,
 "nbformat_minor": 2
}
