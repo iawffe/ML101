{
 "cells": [
  {
   "cell_type": "markdown",
   "metadata": {
    "collapsed": true
   },
   "source": [
    "# Classification combining handcrafted and convolutional features\n",
    "In this notebook, it is presented a supervised classification using support vector machine (SVM). It combines handcrafted texture with convolutional features (presented in the previous notebook: ([link](feats-CC-hand-conv.ipynb)) <img src=\"../Figures/supervised_class.png\" alt=\"Drawing\" style=\"width: 500px;\"/> \n",
    "\n",
    "The goals of this tutorial are:\n",
    "- grid search technique: automatically find optimum parameters (exhaustively considers all parameter combinations)\n",
    "- cross-validation: split training and testing sets <img src=\"../Figures/cross_validation.png\" alt=\"Drawing\" style=\"width: 500px;\"/>     \n",
    "- feature space visualization: top-two components computed through the principal component analysis algoritmn\n",
    "- quantitative analysis of achieved results through the confusion matrix\n",
    "\n",
    "Observation: All experiments performed with 100 samples to limite the processing time"
   ]
  },
  {
   "cell_type": "markdown",
   "metadata": {},
   "source": [
    "## Confusion matrix and visualization of feature space functions"
   ]
  },
  {
   "cell_type": "code",
   "execution_count": 1,
   "metadata": {},
   "outputs": [
    {
     "name": "stderr",
     "output_type": "stream",
     "text": [
      "/Users/mbento/Documents/virtual_env_jupyter/venv/lib/python2.7/site-packages/sklearn/cross_validation.py:44: DeprecationWarning: This module was deprecated in version 0.18 in favor of the model_selection module into which all the refactored classes and functions are moved. Also note that the interface of the new CV iterators are different from that of this module. This module will be removed in 0.20.\n",
      "  \"This module will be removed in 0.20.\", DeprecationWarning)\n"
     ]
    }
   ],
   "source": [
    "%matplotlib inline\n",
    "import matplotlib.pylab as plt\n",
    "import numpy as np\n",
    "from sklearn.svm import SVC\n",
    "from sklearn import decomposition\n",
    "from sklearn.model_selection import KFold\n",
    "from sklearn.cross_validation import StratifiedShuffleSplit\n",
    "from sklearn.model_selection import StratifiedKFold\n",
    "from sklearn.metrics import accuracy_score, confusion_matrix\n",
    "from sklearn.model_selection import GridSearchCV\n",
    "import itertools\n",
    "\n",
    "\n",
    "def plot_confusion_matrix(cm, classes,\n",
    "                          normalize=False,\n",
    "                          title='Confusion matrix',\n",
    "                          cmap=plt.cm.Blues):\n",
    "    \"\"\"\n",
    "    This function prints and plots the confusion matrix.\n",
    "    \"\"\"\n",
    "    if normalize:\n",
    "        cm = cm.astype('float') / cm.sum(axis=1)[:, np.newaxis]\n",
    "\n",
    "    plt.imshow(cm, interpolation='nearest', cmap=cmap)\n",
    "    plt.title(title,size=20)\n",
    "    plt.colorbar()\n",
    "    tick_marks = np.arange(len(classes))\n",
    "    plt.xticks(tick_marks, classes, size=14, rotation=45)\n",
    "    plt.yticks(tick_marks, classes, size=14)\n",
    "\n",
    "    fmt = '.2f' if normalize else 'd'\n",
    "    thresh = cm.max() / 2.\n",
    "    for i, j in itertools.product(range(cm.shape[0]), range(cm.shape[1])):\n",
    "        plt.text(j, i, format(cm[i, j], fmt),\n",
    "                 horizontalalignment=\"center\", size=20,\n",
    "                 color=\"white\" if cm[i, j] > thresh else \"black\")\n",
    "\n",
    "    plt.tight_layout()\n",
    "    plt.ylabel('True label',size=16)\n",
    "    plt.xlabel('Predicted label',size=16)\n",
    "    \n",
    "def viz_feature_space(X,y,lab):\n",
    "    \"\"\"\n",
    "    This function plots a 2D visualization of the feature space.\n",
    "    \"\"\"\n",
    "    sym = ['*','o']\n",
    "    plt.figure(facecolor = 'w')\n",
    "    pca = decomposition.PCA(n_components=2)\n",
    "    X_viz = pca.fit_transform(X)\n",
    "    \n",
    "    for i in np.unique(y):\n",
    "        inplot, = plt.plot(X_viz[y==i,0],X_viz[y==i,1],sym[int(i)],label=lab[int(i)])\n",
    "    plt.ylabel('pca2',size=16),plt.xlabel('pca1',size=16)#,plt.title('visualize feature space',size=20)\n",
    "    plt.legend()\n",
    "    plt.show()"
   ]
  },
  {
   "cell_type": "markdown",
   "metadata": {},
   "source": [
    "## Classification problem - distinguish 3T from 1.5T images"
   ]
  },
  {
   "cell_type": "code",
   "execution_count": 2,
   "metadata": {},
   "outputs": [
    {
     "data": {
      "image/png": "[encoded data removed]",
      "text/plain": [
       "<matplotlib.figure.Figure at 0x1105df9d0>"
      ]
     },
     "metadata": {},
     "output_type": "display_data"
    }
   ],
   "source": [
    "### Feature's space: 2 classification problem (distinguish 3T from 1.5T images)###\n",
    "nsamples = 100\n",
    "\n",
    "data = np.load('../Data/feats_cc359.npy.zip')['feats_cc359']\n",
    "\n",
    "## extract information (feats and labels) from data \n",
    "np.random.seed(0)\n",
    "np.random.shuffle(data) # randomize samples\n",
    "\n",
    "y = (data[:nsamples,1]>3).astype(np.uint8) # create label vector by using data information (0 - 3T; 1 - 1.5T)\n",
    "lab=['3T','1.5T']\n",
    "X = data[:nsamples,4:] # extract feats from data (only removing other image/patients infos)\n",
    "\n",
    "## Possible 2D visualization of the feature space by reducing it by using principal component analysis\n",
    "viz_feature_space(X,y,lab)"
   ]
  },
  {
   "cell_type": "markdown",
   "metadata": {},
   "source": [
    "## SVM - grid-search and cross-validation"
   ]
  },
  {
   "cell_type": "code",
   "execution_count": 3,
   "metadata": {},
   "outputs": [
    {
     "name": "stdout",
     "output_type": "stream",
     "text": [
      "accuracy within cross-validation: [1.0, 0.97999999999999998]\n"
     ]
    }
   ],
   "source": [
    "### SVM - grid-search; cross-validation  ###\n",
    "## Parameter for Grid-Search\n",
    "tuned_parameters = [\n",
    "    {'C': [1, 100], 'kernel': ['linear']},\n",
    "    #{'C': [1, 100], 'gamma': [0.1, 0.01], 'kernel': ['rbf']},\n",
    "    ]\n",
    "\n",
    "## Cross validation using 2-fold ##\n",
    "kf = KFold(n_splits=2)\n",
    "final_cm = np.zeros((2,2))\n",
    "acc = []\n",
    "for train, test in kf.split(X,y):\n",
    "    X_train = X[train]\n",
    "    y_train = y[train]\n",
    "    X_test = X[test]\n",
    "    y_test = y[test]\n",
    "    clf = GridSearchCV(SVC(), tuned_parameters,scoring='accuracy') # grid search maximizing the accuracy\n",
    "    clf.fit(X_train, y_train) # training\n",
    "    y_pred = clf.predict(X_test) # testing\n",
    "    acc.append(accuracy_score(y_test, y_pred))\n",
    "    final_cm +=confusion_matrix(y_test, y_pred)\n",
    "\n",
    "print 'accuracy within cross-validation:',acc # two accuracy achieved in each iteration of 2-fold"
   ]
  },
  {
   "cell_type": "markdown",
   "metadata": {},
   "source": [
    "## Visualization of the Confusion Matrix"
   ]
  },
  {
   "cell_type": "code",
   "execution_count": 4,
   "metadata": {},
   "outputs": [
    {
     "name": "stdout",
     "output_type": "stream",
     "text": [
      "final accuracy: 0.99\n"
     ]
    },
    {
     "data": {
      "image/png": "[encoded data removed]",
      "text/plain": [
       "<matplotlib.figure.Figure at 0x125481b10>"
      ]
     },
     "metadata": {},
     "output_type": "display_data"
    }
   ],
   "source": [
    "### Quantitative analysis of achieved results ###\n",
    "print 'final accuracy:',np.array(acc).mean() # final accuracy is the mean value of the accuracy array\n",
    "\n",
    "## confusion matrix: possible to compute accuracy, sensitivity and specificity\n",
    "plt.figure(facecolor = 'w')\n",
    "plot_confusion_matrix((final_cm).astype(int), classes=lab,\n",
    "                      title='2-label classification')\n",
    "plt.show()"
   ]
  },
  {
   "cell_type": "markdown",
   "metadata": {},
   "source": [
    "## Activities list\n",
    "\n",
    "  - Now classify samples based on patients gender (female-10 or male-11), instead of using magnetic field. This information is stored at data[:nsamples,3]"
   ]
  },
  {
   "cell_type": "code",
   "execution_count": null,
   "metadata": {
    "collapsed": true
   },
   "outputs": [],
   "source": []
  }
 ],
 "metadata": {
  "kernelspec": {
   "display_name": "Python 2",
   "language": "python",
   "name": "python2"
  },
  "language_info": {
   "codemirror_mode": {
    "name": "ipython",
    "version": 2
   },
   "file_extension": ".py",
   "mimetype": "text/x-python",
   "name": "python",
   "nbconvert_exporter": "python",
   "pygments_lexer": "ipython2",
   "version": "2.7.10"
  }
 },
 "nbformat": 4,
 "nbformat_minor": 2
}
