{
 "cells": [
  {
   "cell_type": "markdown",
   "metadata": {},
   "source": [
    "# Polynomial curve fitting, overfitting and regularization\n",
    "\n",
    "This tutorial is meant to be a gentle introduction to machine learning. We present a simple polynomial fitting example using a least square solution. We use this example to introduce the important concepts of *overfitting*, *generalization*, and *regularization*, which is a technique to reduce overfitting.\n",
    "\n",
    "\n",
    "This tutorial is interactive and it corresponds to an adaptation of the example presented in chapter 1 of the book:\n",
    "\n",
    "**Christopher M. Bishop. 2006. Pattern Recognition and Machine Learning (Information Science and Statistics). Springer-Verlag New York, Inc., Secaucus, NJ, USA.**\n"
   ]
  },
  {
   "cell_type": "code",
   "execution_count": 1,
   "metadata": {},
   "outputs": [
    {
     "data": {
      "image/png": "[encoded data removed]",
      "text/plain": [
       "<matplotlib.figure.Figure at 0x102ac36d0>"
      ]
     },
     "metadata": {},
     "output_type": "display_data"
    }
   ],
   "source": [
    "%matplotlib inline \n",
    "import numpy as np \n",
    "import matplotlib.pylab as plt # plotting library\n",
    "from ipywidgets import * # Interaction library\n",
    "\n",
    "#Noise variance\n",
    "var = 0.3\n",
    "\n",
    "#Train set\n",
    "train_size = 10\n",
    "x_train = np.linspace(0,1,train_size)\n",
    "\n",
    "#signal + noise\n",
    "y_train = np.sin(2*np.pi*x_train) + np.random.normal(0,var,train_size) \n",
    "\n",
    "#Test set\n",
    "test_size = 100\n",
    "x_test= np.linspace(0,1,test_size)\n",
    "y = np.sin(2*np.pi*x_test)\n",
    "y_test = y + np.random.normal(0,var,test_size) #signal + noise\n",
    "\n",
    "plt.figure()\n",
    "plt.plot(x_test,y,linewidth = 2.0,label = r'Model no noise: $sin(2 \\pi x)$')\n",
    "plt.scatter(x_train,y_train,color='red',label = \"Model with noise\")\n",
    "plt.legend(loc = (0.02, 0.18))\n",
    "plt.xlabel(\"x\")\n",
    "plt.ylabel(\"y\")\n",
    "plt.show()"
   ]
  },
  {
   "cell_type": "markdown",
   "metadata": {},
   "source": [
    "## Data\n",
    "\n",
    "Observations: $$\\boldsymbol{X} =(x_1,x_2,...,x_N)^T$$\n",
    "Target:  $$\\boldsymbol{T} =(t_1,t_2,...,t_N)^T$$\n",
    "\n",
    "\n",
    "## Model\n",
    "\n",
    "$$y(x,\\boldsymbol{W})= w_0 + w_1x +w_2x^2+...+w_mx^m = \\sum^M_{j=0}w_jx^j$$\n",
    "\n",
    "## Cost Function\n",
    "\n",
    "Quadratic cost function: $$E(\\boldsymbol{W})=\\frac{1}{2}\\sum_{n=1}^N\\{y(x_n,\\boldsymbol{W})-t_n\\}^2$$\n",
    "\n",
    "Computing the derivative of the cost function and amking it equal to zero, we can find the vector **W*** that minimizes the error:\n",
    "$$ \\boldsymbol{W}^* = (\\boldsymbol{A}^T\\boldsymbol{A})^{-1}\\boldsymbol{A} ^T\\boldsymbol{T}$$\n",
    "\n",
    "Where **A** is defined by:\n",
    "\n",
    "$$\\boldsymbol{A} = \\begin{bmatrix}\n",
    "    1 & x_{1} & x_{1}^2 & \\dots  & x_{1}^M \\\\\n",
    "    1 & x_{2} & x_{2}^2 & \\dots  & x_{2}^M \\\\\n",
    "    \\vdots & \\vdots & \\vdots & \\ddots & \\vdots \\\\\n",
    "    1 & x_{N} & x_{N}^2 & \\dots  & x_{N}^M\n",
    "\\end{bmatrix}$$"
   ]
  },
  {
   "cell_type": "code",
   "execution_count": 2,
   "metadata": {
    "collapsed": true
   },
   "outputs": [],
   "source": [
    "#Least square polynomial fitting solution\n",
    "def polynomial_fit(X,T,M):\n",
    "    A = np.power(X.reshape(-1,1),np.arange(0,M+1).reshape(1,-1))\n",
    "    T = T.reshape(-1,1)\n",
    "    W = np.dot(np.linalg.pinv(A),T)\n",
    "    return W.ravel()"
   ]
  },
  {
   "cell_type": "markdown",
   "metadata": {},
   "source": [
    "Plotting the least squares result varying the polynomial degree between  0 a 9. **Which model is a good model?**"
   ]
  },
  {
   "cell_type": "code",
   "execution_count": 6,
   "metadata": {},
   "outputs": [
    {
     "data": {
      "application/vnd.jupyter.widget-view+json": {
       "model_id": "660d085a93c249ada34485b9ef1ac7cf"
      }
     },
     "metadata": {},
     "output_type": "display_data"
    },
    {
     "data": {
      "text/plain": [
       "<function __main__.plotmodel>"
      ]
     },
     "execution_count": 6,
     "metadata": {},
     "output_type": "execute_result"
    }
   ],
   "source": [
    "def plotmodel(M):\n",
    "    coefs = polynomial_fit(x_train, y_train, M)[::-1]\n",
    "    p = np.poly1d(coefs)\n",
    "    plt.figure()\n",
    "    plt.plot(x_test,y,linewidth = 2.0,label = 'Real')\n",
    "    plt.scatter(x_train,y_train,color='red',label= \"Train\")\n",
    "    plt.xlabel(\"x\")\n",
    "    plt.ylabel(r'y')\n",
    "    y_fit = p(x_test) \n",
    "    plt.plot(x_test,y_fit,linewidth = 2.0,label =\"Estimated\")\n",
    "    plt.plot(x_test,y_test,'x',color='black',label = \"Test\")\n",
    "    plt.legend(loc=(0.02,0.02))\n",
    "    plt.show()\n",
    "\n",
    "interact(plotmodel,M=(0,9,1))  \n"
   ]
  },
  {
   "cell_type": "markdown",
   "metadata": {},
   "source": [
    "## Root mean squared error\n",
    "\n",
    "$$E_{RMS}=\\sqrt{2E(\\boldsymbol{W^*})/N}$$"
   ]
  },
  {
   "cell_type": "code",
   "execution_count": 15,
   "metadata": {},
   "outputs": [
    {
     "data": {
      "image/png": "[encoded data removed]",
      "text/plain": [
       "<matplotlib.figure.Figure at 0x1045d6390>"
      ]
     },
     "metadata": {},
     "output_type": "display_data"
    }
   ],
   "source": [
    "# Computes RMS error\n",
    "def rms_error(X,T,W):\n",
    "    p = np.poly1d(W)\n",
    "    T_fit = p(X)\n",
    "    E = np.sqrt(((T - T_fit)**2/T.size).sum())\n",
    "    return E\n",
    "   \n",
    "m = range(10)\n",
    "train = []\n",
    "test = []\n",
    "\n",
    "for M in m:\n",
    "    W = polynomial_fit(x_train, y_train, M)[::-1]\n",
    "    error_train = rms_error(x_train,y_train,W)\n",
    "    error_test = rms_error(x_test,y_test,W)\n",
    "    train.append(error_train)\n",
    "    test.append(error_test)\n",
    "\n",
    "\n",
    "plt.figure()\n",
    "plt.plot(m,train,linewidth = 2.0,marker = 'o',markersize = 12,label = r'$E_{RMS}$ Train')\n",
    "plt.plot(m,test,linewidth = 2.0,marker = 'x',markersize = 12,label = r'$E_{RMS}$ Test')\n",
    "plt.legend(loc = (0.02, 0.05))\n",
    "plt.xlabel(\"Polynome degree\")\n",
    "plt.ylabel(r'$E_{RMS}$')\n",
    "plt.show()"
   ]
  },
  {
   "cell_type": "markdown",
   "metadata": {},
   "source": [
    "Função de custo com regularização \n",
    "====================================\n",
    "\n",
    "$$E(\\boldsymbol{w})=\\frac{1}{2}\\sum_{n=1}^N\\{y(x_n,\\boldsymbol{w})-t_n\\}^2 +\\frac{\\lambda}{2}||\\boldsymbol{W}||^2$$\n",
    "\n",
    "A solução dessa expressão é dada por:\n",
    "\n",
    "$$\\boldsymbol{W}^* = (\\boldsymbol{A}^T\\boldsymbol{A} + \\lambda n\\boldsymbol{I})^{-1}\\boldsymbol{A} ^T\\boldsymbol{T} $$"
   ]
  },
  {
   "cell_type": "code",
   "execution_count": 8,
   "metadata": {
    "collapsed": true
   },
   "outputs": [],
   "source": [
    "#Mínimos quadrados com regularização\n",
    "def polynomial_fit_reg(X,T,M,lamb):\n",
    "    N = X.shape[0]\n",
    "    A = np.power(X.reshape(-1,1),np.arange(0,M+1).reshape(1,-1))\n",
    "    lambda_matrix = lamb*N*np.eye(M+1)\n",
    "    T = T.reshape(-1,1)\n",
    "    aux = np.dot(A.T,A) + lambda_matrix\n",
    "    aux = np.linalg.pinv(aux)\n",
    "    aux2 = np.dot(A.T,T)\n",
    "    W = np.dot(aux,aux2)\n",
    "    return W.ravel()"
   ]
  },
  {
   "cell_type": "markdown",
   "metadata": {},
   "source": [
    "No demo abaixo, mostramos a influência do $\\lambda$ e do $M$ no ajuste polinomial."
   ]
  },
  {
   "cell_type": "code",
   "execution_count": 14,
   "metadata": {},
   "outputs": [
    {
     "data": {
      "application/vnd.jupyter.widget-view+json": {
       "model_id": "72d0da551fe84a75937692782734c35c"
      }
     },
     "metadata": {},
     "output_type": "display_data"
    },
    {
     "data": {
      "text/plain": [
       "<function __main__.plotmodel2>"
      ]
     },
     "execution_count": 14,
     "metadata": {},
     "output_type": "execute_result"
    }
   ],
   "source": [
    "def plotmodel2(M,log_lamb):\n",
    "    lamb = np.exp(log_lamb)\n",
    "    coefs = polynomial_fit_reg(x_train, y_train, M,lamb)[::-1]\n",
    "    print \"W:\",coefs\n",
    "    print \"Lambda\", lamb\n",
    "    p = np.poly1d(coefs)\n",
    "    plt.figure()\n",
    "    plt.plot(x_test,y,linewidth = 2.0,label = 'Real')\n",
    "    plt.scatter(x_train,y_train,color='red',label= \"Train\")\n",
    "    plt.xlabel(\"x\")\n",
    "    plt.ylabel(r'y')\n",
    "    y_fit = p(x_test) \n",
    "    plt.plot(x_test,y_fit,linewidth = 2.0,label =\"Estimated\")\n",
    "    plt.plot(x_test,y_test,'x',color='black',label = \"Test\")\n",
    "    plt.legend(loc=(0.02,0.02))\n",
    "    plt.show()\n",
    "interact(plotmodel2,M=(0,9,1),log_lamb = (-40,-15,.1))  "
   ]
  },
  {
   "cell_type": "markdown",
   "metadata": {},
   "source": [
    "No demo abaixo mostramos a influência do parâmetro $\\lambda$ no ajuste de um polinômio de grau 9."
   ]
  },
  {
   "cell_type": "code",
   "execution_count": 16,
   "metadata": {},
   "outputs": [
    {
     "name": "stdout",
     "output_type": "stream",
     "text": [
      "30\n",
      "30\n"
     ]
    },
    {
     "data": {
      "image/png": "[encoded data removed]",
      "text/plain": [
       "<matplotlib.figure.Figure at 0x104cd0490>"
      ]
     },
     "metadata": {},
     "output_type": "display_data"
    }
   ],
   "source": [
    "log_lamb = range(-40,-10)\n",
    "\n",
    "M = 9\n",
    "train = []\n",
    "test = []\n",
    "for l in log_lamb:\n",
    "    lamb = np.exp(l)\n",
    "    coeffs = polynomial_fit_reg(x_train, y_train, M,lamb)[::-1]\n",
    "    error_train = rms_error(x_train,y_train,coeffs)\n",
    "    error_test = rms_error(x_test,y_test,coeffs)\n",
    "    train.append(error_train)\n",
    "    test.append(error_test)\n",
    "\n",
    "print len(train)\n",
    "print len(log_lamb)\n",
    "plt.figure()\n",
    "plt.plot(log_lamb,train,linewidth = 1.0,marker = 'o',markersize = 12,label = r'$E_{RMS}$ Train')\n",
    "plt.plot(log_lamb,test,linewidth = 1.0,marker = 'x',markersize = 12,label = r'$E_{RMS}$ Test')\n",
    "plt.legend(loc = (0.02, 0.075))\n",
    "plt.xlabel(r'$ln\\lambda$')\n",
    "plt.ylabel(r'$E_{RMS}$')\n",
    "plt.title(\"Polynome degree 9\")\n",
    "plt.show()"
   ]
  },
  {
   "cell_type": "markdown",
   "metadata": {},
   "source": [
    "## Activity suggestions\n",
    "\n",
    "- Change the input signal;\n",
    "- Change the noise intensity;\n",
    "- Use more data for training your model;\n",
    "- ..."
   ]
  },
  {
   "cell_type": "code",
   "execution_count": null,
   "metadata": {
    "collapsed": true
   },
   "outputs": [],
   "source": []
  }
 ],
 "metadata": {
  "kernelspec": {
   "display_name": "Python 2",
   "language": "python",
   "name": "python2"
  },
  "language_info": {
   "codemirror_mode": {
    "name": "ipython",
    "version": 2
   },
   "file_extension": ".py",
   "mimetype": "text/x-python",
   "name": "python",
   "nbconvert_exporter": "python",
   "pygments_lexer": "ipython2",
   "version": "2.7.10"
  },
  "widgets": {
   "state": {
    "19cec4934e1149539df7a29b45e5d8db": {
     "views": [
      {
       "cell_index": 5
      }
     ]
    },
    "bcb76ab332004a4b8fdc5e0c2f90acd3": {
     "views": [
      {
       "cell_index": 11
      }
     ]
    }
   },
   "version": "1.2.0"
  }
 },
 "nbformat": 4,
 "nbformat_minor": 1
}
