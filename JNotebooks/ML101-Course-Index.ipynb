{
 "cells": [
  {
   "cell_type": "markdown",
   "metadata": {},
   "source": [
    "# Machine Learning 101\n",
    "\n",
    "The proposal of this material is to give an introduction to machine learning with emphasis on deep learning using Python.\n",
    "\n",
    "## Python and NumPy Basics\n",
    "\n",
    "- [Introduction to Python](tutorial-python.ipynb)\n",
    "- [Introduction to NumPy](tutorial-numpy.ipynb)\n",
    "\n",
    "## Introduction to Machine Learning\n",
    "\n",
    "- [Polynomial fitting, overfitting and regularization](overfitting_regularization.ipynb) (Type this command before launching jupyter  to enable interaction: \"jupyter nbextension enable --py widgetsnbextension\")\n",
    "- Logistic Regression - NumPy Implementation (Roberto)\n",
    "- Logistic Regression - Keras (Roberto)\n",
    "- Multi-Layer Neural Networks and their decisions boundaries (Roberto)\n",
    "\n",
    "## Intrdocution to Deep Learning\n",
    "\n",
    "- Image Classification Multi-layer Neural Network - MNIST (Roberto)\n",
    "- Image Classification CNN - MNIST (Roberto)\n",
    "- Image Segmentation CNN - ?? (Roberto)\n",
    "\n"
   ]
  },
  {
   "cell_type": "code",
   "execution_count": null,
   "metadata": {
    "collapsed": true
   },
   "outputs": [],
   "source": []
  }
 ],
 "metadata": {
  "kernelspec": {
   "display_name": "Python 2",
   "language": "python",
   "name": "python2"
  },
  "language_info": {
   "codemirror_mode": {
    "name": "ipython",
    "version": 2
   },
   "file_extension": ".py",
   "mimetype": "text/x-python",
   "name": "python",
   "nbconvert_exporter": "python",
   "pygments_lexer": "ipython2",
   "version": "2.7.10"
  }
 },
 "nbformat": 4,
 "nbformat_minor": 2
}
